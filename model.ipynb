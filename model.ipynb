{
 "cells": [
  {
   "cell_type": "markdown",
   "metadata": {},
   "source": [
    "## Customer Churn Prediction"
   ]
  },
  {
   "cell_type": "markdown",
   "metadata": {},
   "source": [
    "#### Loading Libraries"
   ]
  },
  {
   "cell_type": "code",
   "execution_count": 1,
   "metadata": {},
   "outputs": [],
   "source": [
    "# General imports\n",
    "import pandas as pd\n",
    "import numpy as np\n",
    "import matplotlib.pyplot as plt\n",
    "import warnings\n",
    "\n",
    "# Preprocessing\n",
    "from sklearn.model_selection import train_test_split\n",
    "from sklearn.preprocessing import LabelEncoder, StandardScaler\n",
    "\n",
    "# Machine Learning Models\n",
    "from sklearn.linear_model import LogisticRegression\n",
    "from sklearn.ensemble import RandomForestClassifier\n",
    "import tensorflow as tf\n",
    "from tensorflow import keras\n",
    "\n",
    "# Metrics and Model Evaluation\n",
    "from sklearn.metrics import accuracy_score, precision_score, recall_score, f1_score\n",
    "from sklearn.metrics import roc_curve, roc_auc_score\n",
    "from sklearn.model_selection import GridSearchCV\n",
    "\n",
    "# Utilities\n",
    "import joblib\n",
    "\n",
    "# Suppress warnings\n",
    "warnings.filterwarnings('ignore')"
   ]
  },
  {
   "cell_type": "markdown",
   "metadata": {},
   "source": [
    "### Data Preprocessing:"
   ]
  },
  {
   "cell_type": "markdown",
   "metadata": {},
   "source": [
    "#### 1.1 Load the provided dataset and perform initial data exploration."
   ]
  },
  {
   "cell_type": "code",
   "execution_count": 2,
   "metadata": {},
   "outputs": [
    {
     "name": "stdout",
     "output_type": "stream",
     "text": [
      "   CustomerID        Name  Age  Gender     Location  \\\n",
      "0           1  Customer_1   63    Male  Los Angeles   \n",
      "1           2  Customer_2   62  Female     New York   \n",
      "2           3  Customer_3   24  Female  Los Angeles   \n",
      "3           4  Customer_4   36  Female        Miami   \n",
      "4           5  Customer_5   46  Female        Miami   \n",
      "\n",
      "   Subscription_Length_Months  Monthly_Bill  Total_Usage_GB  Churn  \n",
      "0                          17         73.36             236      0  \n",
      "1                           1         48.76             172      0  \n",
      "2                           5         85.47             460      0  \n",
      "3                           3         97.94             297      1  \n",
      "4                          19         58.14             266      0  \n"
     ]
    }
   ],
   "source": [
    "# Load data from the local Excel file\n",
    "file_path = \"customer_churn_large_dataset.xlsx\" \n",
    "df = pd.read_excel(file_path)\n",
    "\n",
    "# Display first few rows of the dataset\n",
    "print(df.head())"
   ]
  },
  {
   "cell_type": "markdown",
   "metadata": {},
   "source": [
    "#### 1.2 Handle missing data and outliers."
   ]
  },
  {
   "cell_type": "code",
   "execution_count": 3,
   "metadata": {},
   "outputs": [
    {
     "name": "stdout",
     "output_type": "stream",
     "text": [
      "CustomerID                    0\n",
      "Name                          0\n",
      "Age                           0\n",
      "Gender                        0\n",
      "Location                      0\n",
      "Subscription_Length_Months    0\n",
      "Monthly_Bill                  0\n",
      "Total_Usage_GB                0\n",
      "Churn                         0\n",
      "dtype: int64\n"
     ]
    }
   ],
   "source": [
    "# Checking for missing values\n",
    "print(df.isnull().sum())"
   ]
  },
  {
   "cell_type": "code",
   "execution_count": 4,
   "metadata": {},
   "outputs": [],
   "source": [
    "# Filling the missing numerical values with median\n",
    "for column in df.select_dtypes(include=['float64', 'int64']).columns:\n",
    "    df[column].fillna(df[column].median(), inplace=True)\n",
    "\n",
    "# Filling the missing categorical values with mode\n",
    "for column in df.select_dtypes(include=['object']).columns:\n",
    "    df[column].fillna(df[column].mode()[0], inplace=True)\n"
   ]
  },
  {
   "cell_type": "code",
   "execution_count": 5,
   "metadata": {},
   "outputs": [],
   "source": [
    "# Checking for outliers (using the IQR method for the 'Monthly_Bill')\n",
    "Q1 = df['Monthly_Bill'].quantile(0.25)\n",
    "Q3 = df['Monthly_Bill'].quantile(0.75)\n",
    "IQR = Q3 - Q1\n",
    "lower_bound = Q1 - 1.5 * IQR\n",
    "upper_bound = Q3 + 1.5 * IQR\n",
    "\n",
    "# Filtering out outliers\n",
    "df = df[(df['Monthly_Bill'] >= lower_bound) & (df['Monthly_Bill'] <= upper_bound)]\n"
   ]
  },
  {
   "cell_type": "markdown",
   "metadata": {},
   "source": [
    "#### 1.3 Prepare the data for machine learning."
   ]
  },
  {
   "cell_type": "code",
   "execution_count": 6,
   "metadata": {},
   "outputs": [],
   "source": [
    "# Encoding categorical variables\n",
    "le = LabelEncoder()\n",
    "df['Gender'] = le.fit_transform(df['Gender'])\n",
    "df['Location'] = le.fit_transform(df['Location'])"
   ]
  },
  {
   "cell_type": "code",
   "execution_count": 7,
   "metadata": {},
   "outputs": [],
   "source": [
    "# Splitting data into training and testing sets\n",
    "X = df.drop(columns=['CustomerID', 'Name', 'Churn'])\n",
    "y = df['Churn']\n",
    "X_train, X_test, y_train, y_test = train_test_split(X, y, test_size=0.2, random_state=42)\n"
   ]
  },
  {
   "cell_type": "markdown",
   "metadata": {},
   "source": [
    "### 2. Feature Engineering:"
   ]
  },
  {
   "cell_type": "markdown",
   "metadata": {},
   "source": [
    "#### 2.1 Generate relevant features."
   ]
  },
  {
   "cell_type": "code",
   "execution_count": 8,
   "metadata": {},
   "outputs": [],
   "source": [
    "# Createg Usage to Bill Ratio\n",
    "df['Usage_to_Bill_Ratio'] = df['Total_Usage_GB'] / df['Monthly_Bill']\n"
   ]
  },
  {
   "cell_type": "code",
   "execution_count": 9,
   "metadata": {},
   "outputs": [],
   "source": [
    "# Create Age Group\n",
    "bins = [18, 30, 40, 50, 60, 70, 80]\n",
    "labels = ['18-29', '30-39', '40-49', '50-59', '60-69', '70+']\n",
    "df['Age_Group'] = pd.cut(df['Age'], bins=bins, labels=labels, right=False)\n",
    "\n",
    "# Convert Age Group to numerical values\n",
    "df['Age_Group'] = df['Age_Group'].astype(str)\n",
    "le_age_group = LabelEncoder()\n",
    "df['Age_Group'] = le_age_group.fit_transform(df['Age_Group'])\n"
   ]
  },
  {
   "cell_type": "markdown",
   "metadata": {},
   "source": [
    "#### 2.2 Apply feature scaling."
   ]
  },
  {
   "cell_type": "code",
   "execution_count": 10,
   "metadata": {},
   "outputs": [],
   "source": [
    "scaler = StandardScaler()\n",
    "X_train = scaler.fit_transform(X_train)\n",
    "X_test = scaler.transform(X_test)\n"
   ]
  },
  {
   "cell_type": "markdown",
   "metadata": {},
   "source": [
    "#### 2.3 Feature Selection:"
   ]
  },
  {
   "cell_type": "code",
   "execution_count": 11,
   "metadata": {},
   "outputs": [
    {
     "data": {
      "image/png": "[encoded data removed]",
      "text/plain": [
       "<Figure size 1200x600 with 1 Axes>"
      ]
     },
     "metadata": {},
     "output_type": "display_data"
    }
   ],
   "source": [
    "#feature importance\n",
    "rf_for_importance = RandomForestClassifier()\n",
    "rf_for_importance.fit(X_train, y_train)\n",
    "importances = rf_for_importance.feature_importances_\n",
    "indices = np.argsort(importances)[::-1]\n",
    "\n",
    "# Plot for feature importances\n",
    "plt.figure(figsize=(12, 6))\n",
    "plt.title(\"Feature Importances\")\n",
    "plt.bar(range(X_train.shape[1]), importances[indices], align=\"center\")\n",
    "plt.xticks(range(X_train.shape[1]), X.columns[indices], rotation=90)\n",
    "plt.show()\n"
   ]
  },
  {
   "cell_type": "code",
   "execution_count": 24,
   "metadata": {},
   "outputs": [
    {
     "name": "stdout",
     "output_type": "stream",
     "text": [
      "Index(['Monthly_Bill', 'Total_Usage_GB', 'Age', 'Subscription_Length_Months',\n",
      "       'Location', 'Gender'],\n",
      "      dtype='object')\n"
     ]
    }
   ],
   "source": [
    "print(X.columns[indices])"
   ]
  },
  {
   "cell_type": "markdown",
   "metadata": {},
   "source": [
    "### 3. Model Building:"
   ]
  },
  {
   "cell_type": "markdown",
   "metadata": {},
   "source": [
    "#### 3.1 Choose appropriate machine learning algorithms."
   ]
  },
  {
   "cell_type": "markdown",
   "metadata": {},
   "source": [
    "##### 3.1.1 Logistic Regression"
   ]
  },
  {
   "cell_type": "code",
   "execution_count": 12,
   "metadata": {},
   "outputs": [
    {
     "name": "stdout",
     "output_type": "stream",
     "text": [
      "Logistic Regression:\n",
      "Accuracy: 0.50225\n",
      "Precision: 0.4977596204533474\n",
      "Recall: 0.38070758996068943\n",
      "F1-Score: 0.4314352618653264\n"
     ]
    }
   ],
   "source": [
    "# Model Training\n",
    "logistic_model = LogisticRegression(max_iter=1000)\n",
    "logistic_model.fit(X_train, y_train)\n",
    "\n",
    "# Model Validating\n",
    "y_pred_logistic = logistic_model.predict(X_test)\n",
    "\n",
    "# Performance Evaluation\n",
    "print(\"Logistic Regression:\")\n",
    "print(\"Accuracy:\", accuracy_score(y_test, y_pred_logistic))\n",
    "print(\"Precision:\", precision_score(y_test, y_pred_logistic))\n",
    "print(\"Recall:\", recall_score(y_test, y_pred_logistic))\n",
    "print(\"F1-Score:\", f1_score(y_test, y_pred_logistic))\n"
   ]
  },
  {
   "cell_type": "markdown",
   "metadata": {},
   "source": [
    "##### 3.1.2 Random Forest"
   ]
  },
  {
   "cell_type": "code",
   "execution_count": 13,
   "metadata": {},
   "outputs": [
    {
     "name": "stdout",
     "output_type": "stream",
     "text": [
      "\n",
      "Random Forest:\n",
      "Accuracy: 0.49315\n",
      "Precision: 0.4886673662119622\n",
      "Recall: 0.4694083257736115\n",
      "F1-Score: 0.47884427535859336\n"
     ]
    }
   ],
   "source": [
    "# Model Training\n",
    "rf_model = RandomForestClassifier()\n",
    "rf_model.fit(X_train, y_train)\n",
    "\n",
    "# Model Validating\n",
    "y_pred_rf = rf_model.predict(X_test)\n",
    "\n",
    "# Performance Evaluation\n",
    "print(\"\\nRandom Forest:\")\n",
    "print(\"Accuracy:\", accuracy_score(y_test, y_pred_rf))\n",
    "print(\"Precision:\", precision_score(y_test, y_pred_rf))\n",
    "print(\"Recall:\", recall_score(y_test, y_pred_rf))\n",
    "print(\"F1-Score:\", f1_score(y_test, y_pred_rf))\n"
   ]
  },
  {
   "cell_type": "markdown",
   "metadata": {},
   "source": [
    "##### 3.1.3 Neural Network"
   ]
  },
  {
   "cell_type": "code",
   "execution_count": 14,
   "metadata": {},
   "outputs": [
    {
     "name": "stdout",
     "output_type": "stream",
     "text": [
      "Epoch 1/5\n",
      "8000/8000 [==============================] - 61s 7ms/step - loss: 0.6941 - accuracy: 0.4973 - val_loss: 0.6933 - val_accuracy: 0.5035\n",
      "Epoch 2/5\n",
      "8000/8000 [==============================] - 58s 7ms/step - loss: 0.6932 - accuracy: 0.4999 - val_loss: 0.6933 - val_accuracy: 0.5031\n",
      "Epoch 3/5\n",
      "8000/8000 [==============================] - 40s 5ms/step - loss: 0.6932 - accuracy: 0.5034 - val_loss: 0.6935 - val_accuracy: 0.4939\n",
      "Epoch 4/5\n",
      "8000/8000 [==============================] - 42s 5ms/step - loss: 0.6932 - accuracy: 0.5050 - val_loss: 0.6933 - val_accuracy: 0.4958\n",
      "Epoch 5/5\n",
      "8000/8000 [==============================] - 42s 5ms/step - loss: 0.6931 - accuracy: 0.5037 - val_loss: 0.6934 - val_accuracy: 0.5039\n",
      "625/625 [==============================] - 2s 3ms/step\n",
      "\n",
      "Neural Network:\n",
      "Accuracy: 0.50395\n",
      "Precision: 0.0\n",
      "Recall: 0.0\n",
      "F1-Score: 0.0\n"
     ]
    }
   ],
   "source": [
    "# Defining model\n",
    "nn_model = keras.Sequential([\n",
    "    keras.layers.Dense(12, activation='relu', input_shape=(X_train.shape[1],)),\n",
    "    keras.layers.Dense(8, activation='relu'),\n",
    "    keras.layers.Dense(1, activation='sigmoid')\n",
    "])\n",
    "\n",
    "# Compiling the model\n",
    "nn_model.compile(optimizer='adam', loss='binary_crossentropy', metrics=['accuracy'])\n",
    "\n",
    "# Model Training\n",
    "nn_model.fit(X_train, y_train, epochs=5, batch_size=10, validation_data=(X_test, y_test))\n",
    "\n",
    "# Model Validating\n",
    "y_pred_nn = (nn_model.predict(X_test) > 0.5).astype(\"int32\")\n",
    "\n",
    "# Performance Evaluation\n",
    "print(\"\\nNeural Network:\")\n",
    "print(\"Accuracy:\", accuracy_score(y_test, y_pred_nn))\n",
    "print(\"Precision:\", precision_score(y_test, y_pred_nn))\n",
    "print(\"Recall:\", recall_score(y_test, y_pred_nn))\n",
    "print(\"F1-Score:\", f1_score(y_test, y_pred_nn))\n"
   ]
  },
  {
   "cell_type": "markdown",
   "metadata": {},
   "source": [
    "#### 3.2 Model Evaluation."
   ]
  },
  {
   "cell_type": "code",
   "execution_count": 15,
   "metadata": {},
   "outputs": [
    {
     "name": "stdout",
     "output_type": "stream",
     "text": [
      "625/625 [==============================] - 2s 3ms/step\n"
     ]
    },
    {
     "data": {
      "image/png": "[encoded data removed]",
      "text/plain": [
       "<Figure size 1000x600 with 1 Axes>"
      ]
     },
     "metadata": {},
     "output_type": "display_data"
    }
   ],
   "source": [
    "# ROC curve Plotting\n",
    "def plot_roc_curve(y_true, y_pred_prob, label=None):\n",
    "    fpr, tpr, thresholds = roc_curve(y_true, y_pred_prob)\n",
    "    plt.plot(fpr, tpr, linewidth=2, label=label)\n",
    "    plt.plot([0, 1], [0, 1], 'k--')\n",
    "    plt.xlabel('False Positive Rate')\n",
    "    plt.ylabel('True Positive Rate (Recall)')\n",
    "    plt.title('ROC Curve')\n",
    "\n",
    "# ROC curve for each model\n",
    "plt.figure(figsize=(10, 6))\n",
    "plot_roc_curve(y_test, logistic_model.predict_proba(X_test)[:,1], label='Logistic Regression')\n",
    "plot_roc_curve(y_test, rf_model.predict_proba(X_test)[:,1], label='Random Forest')\n",
    "plot_roc_curve(y_test, nn_model.predict(X_test).ravel(), label='Neural Network')  # Adjusted for NN\n",
    "plt.legend()\n",
    "plt.show()\n"
   ]
  },
  {
   "cell_type": "markdown",
   "metadata": {},
   "source": [
    "#### Best model"
   ]
  },
  {
   "cell_type": "code",
   "execution_count": 16,
   "metadata": {},
   "outputs": [
    {
     "name": "stdout",
     "output_type": "stream",
     "text": [
      "                 Model  Accuracy  Precision    Recall  F1-Score  Average Score\n",
      "0  Logistic Regression   0.50225   0.497760  0.380708  0.431435       0.453038\n",
      "1        Random Forest   0.49315   0.488667  0.469408  0.478844       0.482517\n",
      "2       Neural Network   0.50395   0.000000  0.000000  0.000000       0.125988\n",
      "\n",
      "The best model based on all metrics is: Random Forest\n"
     ]
    }
   ],
   "source": [
    "# Evaluating models and storing results\n",
    "results = []\n",
    "\n",
    "# Logistic Regression\n",
    "accuracy_logistic = accuracy_score(y_test, y_pred_logistic)\n",
    "precision_logistic = precision_score(y_test, y_pred_logistic)\n",
    "recall_logistic = recall_score(y_test, y_pred_logistic)\n",
    "f1_logistic = f1_score(y_test, y_pred_logistic)\n",
    "avg_logistic = (accuracy_logistic + precision_logistic + recall_logistic + f1_logistic) / 4\n",
    "results.append(['Logistic Regression', accuracy_logistic, precision_logistic, recall_logistic, f1_logistic, avg_logistic])\n",
    "\n",
    "# Random Forest\n",
    "accuracy_rf = accuracy_score(y_test, y_pred_rf)\n",
    "precision_rf = precision_score(y_test, y_pred_rf)\n",
    "recall_rf = recall_score(y_test, y_pred_rf)\n",
    "f1_rf = f1_score(y_test, y_pred_rf)\n",
    "avg_rf = (accuracy_rf + precision_rf + recall_rf + f1_rf) / 4\n",
    "results.append(['Random Forest', accuracy_rf, precision_rf, recall_rf, f1_rf, avg_rf])\n",
    "\n",
    "# Neural Network\n",
    "accuracy_nn = accuracy_score(y_test, y_pred_nn)\n",
    "precision_nn = precision_score(y_test, y_pred_nn)\n",
    "recall_nn = recall_score(y_test, y_pred_nn)\n",
    "f1_nn = f1_score(y_test, y_pred_nn)\n",
    "avg_nn = (accuracy_nn + precision_nn + recall_nn + f1_nn) / 4\n",
    "results.append(['Neural Network', accuracy_nn, precision_nn, recall_nn, f1_nn, avg_nn])\n",
    "\n",
    "# Convert results to DataFrame \n",
    "results_df = pd.DataFrame(results, columns=['Model', 'Accuracy', 'Precision', 'Recall', 'F1-Score', 'Average Score'])\n",
    "print(results_df)\n",
    "\n",
    "# Store the best model based on Average Score\n",
    "best_model_name = results_df.sort_values(by='Average Score', ascending=False).iloc[0]['Model']\n",
    "\n",
    "if best_model_name == 'Logistic Regression':\n",
    "    best_model = logistic_model\n",
    "elif best_model_name == 'Random Forest':\n",
    "    best_model = rf_model\n",
    "else:\n",
    "    best_model = nn_model\n",
    "\n",
    "print(\"\\nThe best model based on all metrics is:\", best_model_name)\n"
   ]
  },
  {
   "cell_type": "markdown",
   "metadata": {},
   "source": [
    "### 4. Model Optimization:"
   ]
  },
  {
   "cell_type": "code",
   "execution_count": 17,
   "metadata": {},
   "outputs": [
    {
     "name": "stdout",
     "output_type": "stream",
     "text": [
      "Fitting 5 folds for each of 108 candidates, totalling 540 fits\n",
      "Best parameters for Random Forest: {'max_depth': 30, 'min_samples_leaf': 4, 'min_samples_split': 5, 'n_estimators': 50}\n",
      "\n",
      "Optimized Random Forest:\n",
      "Accuracy: 0.4956\n",
      "Precision: 0.4914891448374274\n",
      "Recall: 0.48603971373853444\n",
      "F1-Score: 0.48874923981350094\n"
     ]
    }
   ],
   "source": [
    "# Check the best model and optimize accordingly\n",
    "if best_model_name == 'Random Forest':\n",
    "    # Hyperparameters for Random Forest\n",
    "    rf_params = {\n",
    "        'n_estimators': [50, 100, 150],\n",
    "        'max_depth': [None, 10, 20, 30],\n",
    "        'min_samples_split': [2, 5, 10],\n",
    "        'min_samples_leaf': [1, 2, 4]\n",
    "    }\n",
    "\n",
    "    # GridSearchCV for Random Forest\n",
    "    rf_search = GridSearchCV(RandomForestClassifier(), rf_params, cv=5, scoring='f1', verbose=2, n_jobs=-1)\n",
    "    rf_search.fit(X_train, y_train)\n",
    "\n",
    "    best_rf_params = rf_search.best_params_\n",
    "    print(\"Best parameters for Random Forest:\", best_rf_params)\n",
    "\n",
    "    # Train with best parameters\n",
    "    optimized_rf = RandomForestClassifier(**best_rf_params)\n",
    "    optimized_rf.fit(X_train, y_train)\n",
    "\n",
    "    # Validate and Evaluate with optimized model\n",
    "    y_pred_optimized_rf = optimized_rf.predict(X_test)\n",
    "    print(\"\\nOptimized Random Forest:\")\n",
    "    print(\"Accuracy:\", accuracy_score(y_test, y_pred_optimized_rf))\n",
    "    print(\"Precision:\", precision_score(y_test, y_pred_optimized_rf))\n",
    "    print(\"Recall:\", recall_score(y_test, y_pred_optimized_rf))\n",
    "    print(\"F1-Score:\", f1_score(y_test, y_pred_optimized_rf))\n",
    "\n",
    "elif best_model_name == 'Logistic Regression':\n",
    "    # Hyperparameters for Logistic Regression\n",
    "    lr_params = {\n",
    "        'penalty': ['l1', 'l2', 'elasticnet', 'none'],\n",
    "        'C': [0.001, 0.01, 0.1, 1, 10, 100],\n",
    "        'solver': ['newton-cg', 'lbfgs', 'liblinear', 'sag', 'saga']\n",
    "    }\n",
    "\n",
    "    # GridSearchCV for Logistic Regression\n",
    "    lr_search = GridSearchCV(LogisticRegression(max_iter=1000), lr_params, cv=5, scoring='f1', verbose=2, n_jobs=-1)\n",
    "    lr_search.fit(X_train, y_train)\n",
    "\n",
    "    best_lr_params = lr_search.best_params_\n",
    "    print(\"Best parameters for Logistic Regression:\", best_lr_params)\n",
    "\n",
    "    # Train with best parameters\n",
    "    optimized_lr = LogisticRegression(**best_lr_params, max_iter=1000)\n",
    "    optimized_lr.fit(X_train, y_train)\n",
    "\n",
    "    # Validate and Evaluate the optimized model\n",
    "    y_pred_optimized_lr = optimized_lr.predict(X_test)\n",
    "    print(\"\\nOptimized Logistic Regression:\")\n",
    "    print(\"Accuracy:\", accuracy_score(y_test, y_pred_optimized_lr))\n",
    "    print(\"Precision:\", precision_score(y_test, y_pred_optimized_lr))\n",
    "    print(\"Recall:\", recall_score(y_test, y_pred_optimized_lr))\n",
    "    print(\"F1-Score:\", f1_score(y_test, y_pred_optimized_lr))\n",
    "\n",
    "elif best_model_name == 'Neural Network':\n",
    "    # Hyperparameters to tune\n",
    "    learning_rates = [0.01, 0.1]\n",
    "    batch_sizes = [32]\n",
    "    epochs_list = [5]\n",
    "    layer_configs = [\n",
    "        [12, 8],\n",
    "        [16, 8]\n",
    "    ]\n",
    "    activations = ['relu', 'tanh']\n",
    "\n",
    "    best_params = {}\n",
    "    best_metrics = {\n",
    "        'accuracy': 0,\n",
    "        'precision': 0,\n",
    "        'recall': 0,\n",
    "        'f1_score': 0\n",
    "    }\n",
    "\n",
    "    for lr in learning_rates:\n",
    "        for batch_size in batch_sizes:\n",
    "            for epochs in epochs_list:\n",
    "                for layers in layer_configs:\n",
    "                    for activation in activations:\n",
    "                        \n",
    "                        # Building model based on current hyperparameters\n",
    "                        nn_model = keras.Sequential()\n",
    "                        for units in layers:\n",
    "                            nn_model.add(keras.layers.Dense(units, activation=activation))\n",
    "                        nn_model.add(keras.layers.Dense(1, activation='sigmoid'))\n",
    "\n",
    "                        optimizer = keras.optimizers.Adam(learning_rate=lr)\n",
    "                        nn_model.compile(optimizer=optimizer, loss='binary_crossentropy', metrics=['accuracy'])\n",
    "                        nn_model.fit(X_train, y_train, epochs=epochs, batch_size=batch_size, validation_data=(X_test, y_test), verbose=0)\n",
    "                        \n",
    "                        # Predict and compute metrics\n",
    "                        y_pred_nn = (nn_model.predict(X_test) > 0.5).astype(\"int32\")\n",
    "                        accuracy = accuracy_score(y_test, y_pred_nn)\n",
    "                        precision = precision_score(y_test, y_pred_nn)\n",
    "                        recall = recall_score(y_test, y_pred_nn)\n",
    "                        f1 = f1_score(y_test, y_pred_nn)\n",
    "\n",
    "                        # Update best hyperparameters if current model is better\n",
    "                        if (accuracy + precision + recall + f1) > (best_metrics['accuracy'] + best_metrics['precision'] + best_metrics['recall'] + best_metrics['f1_score']):\n",
    "                            best_metrics = {\n",
    "                                'accuracy': accuracy,\n",
    "                                'precision': precision,\n",
    "                                'recall': recall,\n",
    "                                'f1_score': f1\n",
    "                            }\n",
    "                            best_params = {\n",
    "                                'learning_rate': lr,\n",
    "                                'batch_size': batch_size,\n",
    "                                'epochs': epochs,\n",
    "                                'layer_config': layers,\n",
    "                                'activation': activation\n",
    "                            }\n",
    "\n",
    "    print(\"\\nBest hyperparameters for Neural Network:\")\n",
    "    print(\"---------------------------------------\")\n",
    "    print(f\"{best_params}\\n\")\n",
    "    print(\"With metrics:\")\n",
    "    print(\"-------------\")\n",
    "    print(f\"{best_metrics}\")\n"
   ]
  },
  {
   "cell_type": "markdown",
   "metadata": {},
   "source": [
    "#### Comparison"
   ]
  },
  {
   "cell_type": "code",
   "execution_count": 18,
   "metadata": {},
   "outputs": [
    {
     "name": "stdout",
     "output_type": "stream",
     "text": [
      "\n",
      "Comparison between Previous and Optimized Model:\n",
      "-----------------------------------------------\n",
      "Difference in Accuracy: 0.0025\n",
      "Difference in Precision: 0.0028\n",
      "Difference in Recall: 0.0166\n",
      "Difference in F1-Score: 0.0099\n"
     ]
    }
   ],
   "source": [
    "# Determine best model\n",
    "if best_model_name == 'Logistic Regression':\n",
    "    y_pred_prev = y_pred_logistic\n",
    "elif best_model_name == 'Random Forest':\n",
    "    y_pred_prev = y_pred_rf\n",
    "else:  # Neural Network\n",
    "    y_pred_prev = y_pred_nn\n",
    "\n",
    "if best_model_name == 'Random Forest':\n",
    "    y_pred_optimized = y_pred_optimized_rf\n",
    "elif best_model_name == 'Neural Network':\n",
    "    y_pred_optimized = y_pred_nn  \n",
    "else:\n",
    "    y_pred_optimized = y_pred_logistic  \n",
    "\n",
    "# Compute metrics for the previous (non-optimized) model\n",
    "accuracy_prev = accuracy_score(y_test, y_pred_prev)\n",
    "precision_prev = precision_score(y_test, y_pred_prev)\n",
    "recall_prev = recall_score(y_test, y_pred_prev)\n",
    "f1_prev = f1_score(y_test, y_pred_prev)\n",
    "\n",
    "# Compute metrics for the new (optimized) model\n",
    "accuracy_opt = accuracy_score(y_test, y_pred_optimized)\n",
    "precision_opt = precision_score(y_test, y_pred_optimized)\n",
    "recall_opt = recall_score(y_test, y_pred_optimized)\n",
    "f1_opt = f1_score(y_test, y_pred_optimized)\n",
    "\n",
    "# Calculate the differences\n",
    "accuracy_diff = accuracy_opt - accuracy_prev\n",
    "precision_diff = precision_opt - precision_prev\n",
    "recall_diff = recall_opt - recall_prev\n",
    "f1_diff = f1_opt - f1_prev\n",
    "\n",
    "print(\"\\nComparison between Previous and Optimized Model:\")\n",
    "print(\"-----------------------------------------------\")\n",
    "print(f\"Difference in Accuracy: {accuracy_diff:.4f}\")\n",
    "print(f\"Difference in Precision: {precision_diff:.4f}\")\n",
    "print(f\"Difference in Recall: {recall_diff:.4f}\")\n",
    "print(f\"Difference in F1-Score: {f1_diff:.4f}\")"
   ]
  },
  {
   "cell_type": "markdown",
   "metadata": {},
   "source": [
    "#### Model Deployment"
   ]
  },
  {
   "cell_type": "code",
   "execution_count": 19,
   "metadata": {},
   "outputs": [
    {
     "name": "stdout",
     "output_type": "stream",
     "text": [
      "RandomForestClassifier(max_depth=30, min_samples_leaf=4, min_samples_split=5,\n",
      "                       n_estimators=50)\n"
     ]
    }
   ],
   "source": [
    "print(optimized_rf)"
   ]
  },
  {
   "cell_type": "code",
   "execution_count": 22,
   "metadata": {},
   "outputs": [
    {
     "data": {
      "text/plain": [
       "['gender_encoder.pkl']"
      ]
     },
     "execution_count": 22,
     "metadata": {},
     "output_type": "execute_result"
    }
   ],
   "source": [
    "# Save the trained model\n",
    "joblib.dump(best_model, 'optimized_rf.pkl') \n",
    "joblib.dump(scaler, 'scaler.pkl') \n",
    "joblib.dump(le, 'gender_encoder.pkl')"
   ]
  },
  {
   "cell_type": "code",
   "execution_count": 23,
   "metadata": {},
   "outputs": [
    {
     "data": {
      "text/plain": [
       "['location_encoder.pkl']"
      ]
     },
     "execution_count": 23,
     "metadata": {},
     "output_type": "execute_result"
    }
   ],
   "source": [
    "# Encoding 'Location'\n",
    "le_location = LabelEncoder()\n",
    "df['Location'] = le_location.fit_transform(df['Location'])\n",
    "joblib.dump(le_location, 'location_encoder.pkl')"
   ]
  }
 ],
 "metadata": {
  "kernelspec": {
   "display_name": "Python 3",
   "language": "python",
   "name": "python3"
  },
  "language_info": {
   "codemirror_mode": {
    "name": "ipython",
    "version": 3
   },
   "file_extension": ".py",
   "mimetype": "text/x-python",
   "name": "python",
   "nbconvert_exporter": "python",
   "pygments_lexer": "ipython3",
   "version": "3.10.7"
  },
  "orig_nbformat": 4
 },
 "nbformat": 4,
 "nbformat_minor": 2
}
